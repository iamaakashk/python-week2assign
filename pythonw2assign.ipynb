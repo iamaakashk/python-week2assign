{
 "cells": [
  {
   "cell_type": "code",
   "execution_count": null,
   "id": "d2f4f661-e217-4c36-9a44-ab1c72a5d988",
   "metadata": {},
   "outputs": [],
   "source": [
    "#q1"
   ]
  },
  {
   "cell_type": "code",
   "execution_count": null,
   "id": "310a9804-d2b9-42d6-ad6d-7ec542ae0890",
   "metadata": {},
   "outputs": [],
   "source": [
    "#comment is a normal text which is made for the understanding of the individual it could be anything like text,character,number etc."
   ]
  },
  {
   "cell_type": "code",
   "execution_count": null,
   "id": "7ee8fb50-4b82-4d43-a832-cd41399f6319",
   "metadata": {},
   "outputs": [],
   "source": [
    "# types of comment are single line and multi line, the above one is single line comment"
   ]
  },
  {
   "cell_type": "code",
   "execution_count": 3,
   "id": "73b82941-467c-4d14-b570-327bdb2e95e8",
   "metadata": {},
   "outputs": [
    {
     "data": {
      "text/plain": [
       "\"in order to have multi line comment \\nyou have to press single or double inverted commas 3 times\\n t starting position and at ending position when you're done writing\""
      ]
     },
     "execution_count": 3,
     "metadata": {},
     "output_type": "execute_result"
    }
   ],
   "source": [
    "\"\"\"in order to have multi line comment \n",
    "you have to press single or double inverted commas 3 times\n",
    " t starting position and at ending position when you're done writing\"\"\""
   ]
  },
  {
   "cell_type": "code",
   "execution_count": 4,
   "id": "35420e4e-6ce0-49b6-a9e2-4a9302f8be4f",
   "metadata": {},
   "outputs": [],
   "source": [
    "#q2"
   ]
  },
  {
   "cell_type": "code",
   "execution_count": 5,
   "id": "8fbc613b-38d1-4d94-99b8-6c671c935df4",
   "metadata": {},
   "outputs": [],
   "source": [
    "#variable are those who have certain value assign to then in form of data type \n",
    "#and since its a variable you can change or overwrite the value of certain variable"
   ]
  },
  {
   "cell_type": "code",
   "execution_count": 6,
   "id": "3554a172-3c4d-48c5-883f-d843a20d9a5e",
   "metadata": {},
   "outputs": [],
   "source": [
    "#variable could be any alphabet or combination of alphabets and integers or some characters"
   ]
  },
  {
   "cell_type": "code",
   "execution_count": 9,
   "id": "c8c10d00-f34f-4d67-986d-27c35f34c8a4",
   "metadata": {},
   "outputs": [],
   "source": [
    "a='python' #here a is variable and python is its assign value "
   ]
  },
  {
   "cell_type": "code",
   "execution_count": 10,
   "id": "421dd018-67c7-4a2e-b854-9e24cf05c46c",
   "metadata": {},
   "outputs": [],
   "source": [
    "b_12 = 25+50j #here b_12 is variable and 25+50j is its assign value"
   ]
  },
  {
   "cell_type": "code",
   "execution_count": 11,
   "id": "4775d00a-b87c-47df-8dfb-d178b88db456",
   "metadata": {},
   "outputs": [
    {
     "data": {
      "text/plain": [
       "(25+50j)"
      ]
     },
     "execution_count": 11,
     "metadata": {},
     "output_type": "execute_result"
    }
   ],
   "source": [
    "b_12"
   ]
  },
  {
   "cell_type": "code",
   "execution_count": 1,
   "id": "451b47b4-2b6d-4aa2-8dcd-3987c599486a",
   "metadata": {},
   "outputs": [],
   "source": [
    "#q3"
   ]
  },
  {
   "cell_type": "code",
   "execution_count": 2,
   "id": "4d0e2dd4-e96d-4b78-a3cf-7df749cce533",
   "metadata": {},
   "outputs": [],
   "source": [
    "r=123"
   ]
  },
  {
   "cell_type": "code",
   "execution_count": 3,
   "id": "0c990df3-0f78-4cc3-8ba8-c0f99b1bb1be",
   "metadata": {},
   "outputs": [
    {
     "data": {
      "text/plain": [
       "int"
      ]
     },
     "execution_count": 3,
     "metadata": {},
     "output_type": "execute_result"
    }
   ],
   "source": [
    "type(r)"
   ]
  },
  {
   "cell_type": "code",
   "execution_count": 4,
   "id": "9ef1d651-1e5b-4543-95c6-1dd1c0e0e122",
   "metadata": {},
   "outputs": [],
   "source": [
    "r=str(r)"
   ]
  },
  {
   "cell_type": "code",
   "execution_count": 5,
   "id": "1d747d1d-d8fd-4035-9833-9f200c8c9a56",
   "metadata": {},
   "outputs": [
    {
     "data": {
      "text/plain": [
       "'123'"
      ]
     },
     "execution_count": 5,
     "metadata": {},
     "output_type": "execute_result"
    }
   ],
   "source": [
    "r"
   ]
  },
  {
   "cell_type": "code",
   "execution_count": 6,
   "id": "58a29d28-43c7-420f-bed9-d1f69160dbd3",
   "metadata": {},
   "outputs": [
    {
     "data": {
      "text/plain": [
       "str"
      ]
     },
     "execution_count": 6,
     "metadata": {},
     "output_type": "execute_result"
    }
   ],
   "source": [
    "type(r)"
   ]
  },
  {
   "cell_type": "code",
   "execution_count": 10,
   "id": "ed9e4655-06d4-427b-b4ca-ff685d498f5f",
   "metadata": {},
   "outputs": [],
   "source": [
    "#Q4"
   ]
  },
  {
   "cell_type": "code",
   "execution_count": null,
   "id": "314bd461-338f-48f0-96be-b0a61e6ca129",
   "metadata": {},
   "outputs": [],
   "source": [
    "# open the command line by windows + r key and then write cmd in run box\n",
    "# then write word 'python', if its install in device you shall proceed to write code in next line\n",
    "# if the python is not installed then the system will redirect you to the microsoft store the download the python app"
   ]
  },
  {
   "cell_type": "code",
   "execution_count": 11,
   "id": "958db877-9332-4a8f-916a-1e67d7f35549",
   "metadata": {},
   "outputs": [],
   "source": [
    "#q5"
   ]
  },
  {
   "cell_type": "code",
   "execution_count": 13,
   "id": "1730a0f1-2855-4060-80f8-5867b702b16c",
   "metadata": {},
   "outputs": [],
   "source": [
    "my_list=[1,2,3,4,5]"
   ]
  },
  {
   "cell_type": "code",
   "execution_count": 14,
   "id": "873f4c9b-2eb3-4771-b451-d72f452e1df9",
   "metadata": {},
   "outputs": [
    {
     "data": {
      "text/plain": [
       "[2, 3]"
      ]
     },
     "execution_count": 14,
     "metadata": {},
     "output_type": "execute_result"
    }
   ],
   "source": [
    "my_list[1:3]"
   ]
  },
  {
   "cell_type": "code",
   "execution_count": 15,
   "id": "0adb8781-dabc-436a-939d-67463276945f",
   "metadata": {},
   "outputs": [],
   "source": [
    "#q6 "
   ]
  },
  {
   "cell_type": "code",
   "execution_count": 16,
   "id": "d1e32be0-3d4d-4322-ba8f-506c895c0873",
   "metadata": {},
   "outputs": [],
   "source": [
    "# complex number is the number which is consisting of the real part and imaginary part \n",
    "# normal numbers are consist of real part only."
   ]
  },
  {
   "cell_type": "code",
   "execution_count": 17,
   "id": "280e126c-e45f-4429-8707-b133955a5d3c",
   "metadata": {},
   "outputs": [],
   "source": [
    "i=23+46j"
   ]
  },
  {
   "cell_type": "code",
   "execution_count": 18,
   "id": "eed57aad-ccfc-4880-a07d-a5c35ec61b20",
   "metadata": {},
   "outputs": [
    {
     "data": {
      "text/plain": [
       "complex"
      ]
     },
     "execution_count": 18,
     "metadata": {},
     "output_type": "execute_result"
    }
   ],
   "source": [
    "type(i)"
   ]
  },
  {
   "cell_type": "code",
   "execution_count": 19,
   "id": "f1215388-4c5c-4685-981d-f4bed759a4bc",
   "metadata": {},
   "outputs": [
    {
     "data": {
      "text/plain": [
       "23.0"
      ]
     },
     "execution_count": 19,
     "metadata": {},
     "output_type": "execute_result"
    }
   ],
   "source": [
    "i.real"
   ]
  },
  {
   "cell_type": "code",
   "execution_count": 20,
   "id": "002a0c03-001a-4fd9-a158-f4eb8e085e15",
   "metadata": {},
   "outputs": [
    {
     "data": {
      "text/plain": [
       "46.0"
      ]
     },
     "execution_count": 20,
     "metadata": {},
     "output_type": "execute_result"
    }
   ],
   "source": [
    "i.imag"
   ]
  },
  {
   "cell_type": "code",
   "execution_count": 21,
   "id": "21b73f76-57e9-448e-9b5a-e1fca1ddff7d",
   "metadata": {},
   "outputs": [],
   "source": [
    "#q7"
   ]
  },
  {
   "cell_type": "code",
   "execution_count": 22,
   "id": "0bb705a4-e1b6-4c9f-a421-4aa13e9865b8",
   "metadata": {},
   "outputs": [],
   "source": [
    "age=25"
   ]
  },
  {
   "cell_type": "code",
   "execution_count": 23,
   "id": "baaed18f-30d1-4965-af0c-7a63369e99bb",
   "metadata": {},
   "outputs": [
    {
     "data": {
      "text/plain": [
       "25"
      ]
     },
     "execution_count": 23,
     "metadata": {},
     "output_type": "execute_result"
    }
   ],
   "source": [
    "age"
   ]
  },
  {
   "cell_type": "code",
   "execution_count": 24,
   "id": "271268f6-8eb6-4e68-b5dc-aecf44652f12",
   "metadata": {},
   "outputs": [
    {
     "data": {
      "text/plain": [
       "int"
      ]
     },
     "execution_count": 24,
     "metadata": {},
     "output_type": "execute_result"
    }
   ],
   "source": [
    "type(age)"
   ]
  },
  {
   "cell_type": "code",
   "execution_count": 25,
   "id": "225f2943-82b2-44fe-9b8d-1fd12f39d1a8",
   "metadata": {},
   "outputs": [],
   "source": [
    "#q8"
   ]
  },
  {
   "cell_type": "code",
   "execution_count": 26,
   "id": "a724d537-8790-4e1c-9eb6-3fadc4917439",
   "metadata": {},
   "outputs": [],
   "source": [
    "price=9.99"
   ]
  },
  {
   "cell_type": "code",
   "execution_count": 27,
   "id": "d9ff3486-f015-4ecb-a672-6f27fd14a02e",
   "metadata": {},
   "outputs": [
    {
     "data": {
      "text/plain": [
       "9.99"
      ]
     },
     "execution_count": 27,
     "metadata": {},
     "output_type": "execute_result"
    }
   ],
   "source": [
    "price"
   ]
  },
  {
   "cell_type": "code",
   "execution_count": 28,
   "id": "080456a4-3413-4c8b-ad5f-a0842f7e8d03",
   "metadata": {},
   "outputs": [
    {
     "data": {
      "text/plain": [
       "float"
      ]
     },
     "execution_count": 28,
     "metadata": {},
     "output_type": "execute_result"
    }
   ],
   "source": [
    "type(price)"
   ]
  },
  {
   "cell_type": "code",
   "execution_count": null,
   "id": "c2bfc6f9-c044-4315-a8c0-c7fccced2c11",
   "metadata": {},
   "outputs": [],
   "source": [
    "#q9"
   ]
  },
  {
   "cell_type": "code",
   "execution_count": 29,
   "id": "4ac8199a-d482-4a3a-8faa-ddec169d62d4",
   "metadata": {},
   "outputs": [],
   "source": [
    "name='aakash kamble'"
   ]
  },
  {
   "cell_type": "code",
   "execution_count": 30,
   "id": "a2e637e5-d0af-4043-8bc1-074278deb15a",
   "metadata": {},
   "outputs": [
    {
     "data": {
      "text/plain": [
       "'aakash kamble'"
      ]
     },
     "execution_count": 30,
     "metadata": {},
     "output_type": "execute_result"
    }
   ],
   "source": [
    "name"
   ]
  },
  {
   "cell_type": "code",
   "execution_count": 31,
   "id": "0cfea646-8afb-4ecc-8406-c5be3e6c0986",
   "metadata": {},
   "outputs": [
    {
     "name": "stdout",
     "output_type": "stream",
     "text": [
      "aakash kamble\n"
     ]
    }
   ],
   "source": [
    "print(name)"
   ]
  },
  {
   "cell_type": "code",
   "execution_count": 32,
   "id": "dfa97d07-cb80-4f50-88a2-46dc94011c0f",
   "metadata": {},
   "outputs": [],
   "source": [
    "#q10"
   ]
  },
  {
   "cell_type": "code",
   "execution_count": 34,
   "id": "5fd06b56-f2d8-4f2a-a552-0b8ad80a3ac3",
   "metadata": {},
   "outputs": [],
   "source": [
    "st=\"Hello, World!\""
   ]
  },
  {
   "cell_type": "code",
   "execution_count": 35,
   "id": "d7be3a7b-47c0-4804-84fc-627edfc779ec",
   "metadata": {},
   "outputs": [
    {
     "data": {
      "text/plain": [
       "'Hello, World!'"
      ]
     },
     "execution_count": 35,
     "metadata": {},
     "output_type": "execute_result"
    }
   ],
   "source": [
    "st"
   ]
  },
  {
   "cell_type": "code",
   "execution_count": 36,
   "id": "084b8a7b-a29f-47fd-bfbb-588e636d00f6",
   "metadata": {},
   "outputs": [
    {
     "data": {
      "text/plain": [
       "str"
      ]
     },
     "execution_count": 36,
     "metadata": {},
     "output_type": "execute_result"
    }
   ],
   "source": [
    "type (st)"
   ]
  },
  {
   "cell_type": "code",
   "execution_count": 39,
   "id": "bf938743-f875-4076-b887-8e2710ca8504",
   "metadata": {},
   "outputs": [
    {
     "data": {
      "text/plain": [
       "'World'"
      ]
     },
     "execution_count": 39,
     "metadata": {},
     "output_type": "execute_result"
    }
   ],
   "source": [
    "st[7:12]"
   ]
  },
  {
   "cell_type": "code",
   "execution_count": 40,
   "id": "f5d9f320-b577-404d-9947-87f098e5cf8c",
   "metadata": {},
   "outputs": [],
   "source": [
    "#q11"
   ]
  },
  {
   "cell_type": "code",
   "execution_count": 41,
   "id": "3b16dd94-2236-4181-b33a-c677efc713bd",
   "metadata": {},
   "outputs": [],
   "source": [
    "is_student = True"
   ]
  },
  {
   "cell_type": "code",
   "execution_count": 42,
   "id": "949caa45-b8a3-4bda-8725-ae89aa24018c",
   "metadata": {},
   "outputs": [
    {
     "data": {
      "text/plain": [
       "bool"
      ]
     },
     "execution_count": 42,
     "metadata": {},
     "output_type": "execute_result"
    }
   ],
   "source": [
    "type(is_student)"
   ]
  },
  {
   "cell_type": "code",
   "execution_count": 43,
   "id": "f26bc8fa-a438-4703-834c-e385a9c8b2bd",
   "metadata": {},
   "outputs": [
    {
     "data": {
      "text/plain": [
       "True"
      ]
     },
     "execution_count": 43,
     "metadata": {},
     "output_type": "execute_result"
    }
   ],
   "source": [
    "is_student"
   ]
  },
  {
   "cell_type": "code",
   "execution_count": null,
   "id": "47bc9c33-128c-4ac4-8cb7-5e55672e432a",
   "metadata": {},
   "outputs": [],
   "source": []
  },
  {
   "cell_type": "code",
   "execution_count": null,
   "id": "010ba39a-888e-45a6-9cc3-816bf5c216e9",
   "metadata": {},
   "outputs": [],
   "source": []
  }
 ],
 "metadata": {
  "kernelspec": {
   "display_name": "Python 3 (ipykernel)",
   "language": "python",
   "name": "python3"
  },
  "language_info": {
   "codemirror_mode": {
    "name": "ipython",
    "version": 3
   },
   "file_extension": ".py",
   "mimetype": "text/x-python",
   "name": "python",
   "nbconvert_exporter": "python",
   "pygments_lexer": "ipython3",
   "version": "3.10.8"
  }
 },
 "nbformat": 4,
 "nbformat_minor": 5
}
